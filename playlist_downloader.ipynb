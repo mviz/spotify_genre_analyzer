{
 "cells": [
  {
   "cell_type": "markdown",
   "metadata": {},
   "source": [
    "## Playlist Downloader\n",
    "\n",
    "This notebook goes through downloading 6 playlists from the Spotify API."
   ]
  },
  {
   "cell_type": "markdown",
   "metadata": {},
   "source": [
    "### Installing spotipy\n",
    "\n",
    "Spotipy is [this github project](https://github.com/plamere/spotipy) which lets us easily grab spotify data.\n",
    "\n",
    "You need to install it (optionally using pip) to use this notebook. You'll need\n",
    "to install it in the correct version of python for use in a jupyter notebook.\n",
    "\n",
    "For me that is `/home/<my_id>/anaconda3/bin/pip`, but it could be different for you.\n",
    "\n",
    "Run `which pip` to confirm the pip version is from ananconda3, otherwise you can execute the anaconda3 environment pip directly: `/home/<my_id>/anaconda3/bin/pip install spotipy`."
   ]
  },
  {
   "cell_type": "code",
   "execution_count": 3,
   "metadata": {
    "scrolled": true
   },
   "outputs": [],
   "source": [
    "# Optionally uncomment these lines to install spotipy here.\n",
    "#! pip install spotipy \n",
    "#! pip install spotipy --upgrade"
   ]
  },
  {
   "cell_type": "code",
   "execution_count": 4,
   "metadata": {},
   "outputs": [],
   "source": [
    "import pandas as pd \n",
    "import spotipy \n",
    "from spotipy.oauth2 import SpotifyClientCredentials \n",
    "\n",
    "sp = spotipy.Spotify() \n",
    "cid =\"YOUR_CID_HERE\" \n",
    "secret = \"YOUR_SECRET_HERE\"\n",
    "\n",
    "# View playlists by going to: https://open.spotify.com/<playlist_id>\n",
    "\n",
    "# Rock\n",
    "rock_classics_id = \"37i9dQZF1DWXRqgorJj26U\"\n",
    "rock_your_block_id = \"37i9dQZF1DX8jpyvTAre41\"\n",
    "\n",
    "# Rap\n",
    "rap_caviar_id = \"37i9dQZF1DX0XUsuxWHRQd\"\n",
    "rap_hits_id = \"1HDS5MxpQEMvZVBl2QAqzC\"\n",
    "\n",
    "# Country\n",
    "hot_country_id = \"37i9dQZF1DX1lVhptIYRda\"\n",
    "country_favorites = \"37i9dQZF1DX13ZzXoot6Jc\""
   ]
  },
  {
   "cell_type": "code",
   "execution_count": 31,
   "metadata": {},
   "outputs": [],
   "source": [
    "def get_df_for_playlist(playlist):\n",
    "    songs = playlist[\"tracks\"][\"items\"] \n",
    "    ids = [] \n",
    "    for i in range(len(songs)): \n",
    "        # Bad song in the playlist, skip.\n",
    "        if songs[i][\"track\"] == None:\n",
    "            continue\n",
    "            \n",
    "        ids.append(songs[i][\"track\"][\"id\"]) \n",
    "    \n",
    "    features = sp.audio_features(ids) \n",
    "    return pd.DataFrame(features)"
   ]
  },
  {
   "cell_type": "code",
   "execution_count": 5,
   "metadata": {},
   "outputs": [],
   "source": [
    "# Download the playlist songs.\n",
    "client_credentials_manager = SpotifyClientCredentials(client_id=cid, client_secret=secret) \n",
    "sp = spotipy.Spotify(client_credentials_manager=client_credentials_manager) \n",
    "sp.trace=True\n",
    "\n",
    "rock_classics = sp.playlist(rock_classics_id)\n",
    "rock_your_block = sp.playlist(rock_your_block_id)\n",
    "\n",
    "rap_caviar = sp.playlist(rap_caviar_id)\n",
    "rap_hits = sp.playlist(rap_hits_id)\n",
    "\n",
    "hot_country = sp.playlist(hot_country_id)\n",
    "country_faves = sp.playlist(country_favorites)"
   ]
  },
  {
   "cell_type": "code",
   "execution_count": 32,
   "metadata": {
    "scrolled": false
   },
   "outputs": [],
   "source": [
    "# Convert playlists into usable dataframes.\n",
    "rock_classics_df = get_df_for_playlist(rock_classics)\n",
    "rock_your_block_df = get_df_for_playlist(rock_your_block)\n",
    "\n",
    "rap_caviar_df  = get_df_for_playlist(rap_caviar)\n",
    "rap_hits_df = get_df_for_playlist(rap_hits)\n",
    "\n",
    "hot_country_df = get_df_for_playlist(hot_country)\n",
    "country_faves_df = get_df_for_playlist(country_faves)"
   ]
  },
  {
   "cell_type": "code",
   "execution_count": 33,
   "metadata": {},
   "outputs": [],
   "source": [
    "# Annotate the target values in the frames before joining and saving.\n",
    "rock_classics_df[\"genre_tag\"] = 0\n",
    "rock_classics_df[\"Genre\"] = \"Rock\"\n",
    "\n",
    "rock_your_block_df[\"genre_tag\"] = 0\n",
    "rock_your_block_df[\"Genre\"] = \"Rock\"\n",
    "\n",
    "rap_caviar_df[\"genre_tag\"] = 1\n",
    "rap_caviar_df[\"Genre\"] = \"Rap\"\n",
    "\n",
    "rap_hits_df[\"genre_tag\"] = 1\n",
    "rap_hits_df[\"Genre\"] = \"Rap\"\n",
    "\n",
    "hot_country_df[\"genre_tag\"] = 2\n",
    "hot_country_df[\"Genre\"] = \"Country\"\n",
    "\n",
    "country_faves_df[\"genre_tag\"] = 2\n",
    "country_faves_df[\"Genre\"] = \"Country\""
   ]
  },
  {
   "cell_type": "code",
   "execution_count": 28,
   "metadata": {
    "scrolled": true
   },
   "outputs": [],
   "source": [
    "# Group the playlists for saving.\n",
    "rock_df = pd.concat([rock_classics_df, rock_your_block_df])\n",
    "rap_df = pd.concat([rap_caviar_df, rap_hits_df])\n",
    "country_df = pd.concat([hot_country_df, country_faves_df])\n",
    "\n",
    "rock_rap_df = pd.concat([rock_df, rap_df])\n",
    "rock_country_df = pd.concat([rock_df, country_df])\n",
    "rap_country_df = pd.concat([rap_df, country_df])"
   ]
  },
  {
   "cell_type": "code",
   "execution_count": 34,
   "metadata": {},
   "outputs": [],
   "source": [
    "# Save those bytes.\n",
    "rock_df.to_csv(\"data/rock_playlist.csv\", index=False)\n",
    "rap_df.to_csv(\"data/rap_playlist.csv\", index=False)\n",
    "country_df.to_csv(\"data/country_playlist.csv\", index=False)\n",
    "\n",
    "rock_rap_df.to_csv(\"data/rock_rap_playlist.csv\", index=False)\n",
    "rock_country_df.to_csv(\"data/rock_country_playlist.csv\", index=False)\n",
    "rap_country_df.to_csv(\"data/rap_country_playlist.csv\", index=False)"
   ]
  },
  {
   "cell_type": "code",
   "execution_count": null,
   "metadata": {},
   "outputs": [],
   "source": []
  }
 ],
 "metadata": {
  "kernelspec": {
   "display_name": "Python 3",
   "language": "python",
   "name": "python3"
  },
  "language_info": {
   "codemirror_mode": {
    "name": "ipython",
    "version": 3
   },
   "file_extension": ".py",
   "mimetype": "text/x-python",
   "name": "python",
   "nbconvert_exporter": "python",
   "pygments_lexer": "ipython3",
   "version": "3.7.4"
  }
 },
 "nbformat": 4,
 "nbformat_minor": 2
}
